{
 "cells": [
  {
   "cell_type": "markdown",
   "metadata": {},
   "source": [
    "### Hypothesis testing 3:\n",
    "\n",
    "* H0 (Null) CO2 impacts everyone irrespective of Co2 proximity\n",
    "* Ha (alternate) The top 20 countries Co2 are more impacted\n",
    "\n",
    "\n",
    "* dataset1 = average temperatures change 1960-2010 all\n",
    "* dataset2 = average temperatures change 1960-2010 for top 20 emitters countries\n",
    "\n",
    "\n",
    "* H0 = Mean (dataset 2) - Mean (dataset 1) = 0\n",
    "* Ha = Mean (dataset 2) - Mean (dataset 1) > 0\n"
   ]
  },
  {
   "cell_type": "code",
   "execution_count": null,
   "metadata": {
    "collapsed": true
   },
   "outputs": [],
   "source": []
  }
 ],
 "metadata": {
  "kernelspec": {
   "display_name": "Python 3",
   "language": "python",
   "name": "python3"
  },
  "language_info": {
   "codemirror_mode": {
    "name": "ipython",
    "version": 3
   },
   "file_extension": ".py",
   "mimetype": "text/x-python",
   "name": "python",
   "nbconvert_exporter": "python",
   "pygments_lexer": "ipython3",
   "version": "3.6.1"
  }
 },
 "nbformat": 4,
 "nbformat_minor": 2
}
