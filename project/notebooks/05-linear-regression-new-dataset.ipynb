{
 "cells": [
  {
   "cell_type": "markdown",
   "metadata": {},
   "source": [
    "### Load packages"
   ]
  },
  {
   "cell_type": "code",
   "execution_count": 2,
   "metadata": {
    "collapsed": true
   },
   "outputs": [],
   "source": [
    "import numpy as np\n",
    "import pandas as pd\n",
    "import matplotlib.pyplot as plt\n",
    "import seaborn as sns\n",
    "%matplotlib inline"
   ]
  },
  {
   "cell_type": "code",
   "execution_count": 3,
   "metadata": {
    "collapsed": true
   },
   "outputs": [],
   "source": [
    "from sklearn import linear_model\n",
    "from sklearn.metrics import mean_squared_error, r2_score"
   ]
  },
  {
   "cell_type": "markdown",
   "metadata": {},
   "source": [
    "### Load datasets"
   ]
  },
  {
   "cell_type": "code",
   "execution_count": 14,
   "metadata": {},
   "outputs": [],
   "source": [
    "# read data\n",
    "df = pd.read_csv('../data/df_clean.csv')"
   ]
  },
  {
   "cell_type": "code",
   "execution_count": 16,
   "metadata": {
    "collapsed": true
   },
   "outputs": [],
   "source": [
    "# split train and test\n",
    "last_year = df.Year.max()"
   ]
  },
  {
   "cell_type": "code",
   "execution_count": 17,
   "metadata": {
    "collapsed": true
   },
   "outputs": [],
   "source": [
    "df_train_raw = df[df.Year != last_year]\n",
    "df_test_raw = df[df.Year == last_year]"
   ]
  },
  {
   "cell_type": "code",
   "execution_count": 18,
   "metadata": {
    "collapsed": true
   },
   "outputs": [],
   "source": [
    "# get X and y\n",
    "y_train = df_train_raw['AveTemperature']\n",
    "X_train = df_train_raw.iloc[:,3:]\n",
    "y_test = df_test_raw['AveTemperature']\n",
    "X_test = df_test_raw.iloc[:,3:]"
   ]
  },
  {
   "cell_type": "code",
   "execution_count": 153,
   "metadata": {
    "collapsed": true
   },
   "outputs": [],
   "source": [
    "# # save datasets\n",
    "# y_train.to_csv('../data/y_train.csv')\n",
    "# X_train.to_csv('../data/X_train.csv')\n",
    "# y_test.to_csv('../data/y_test.csv')\n",
    "# X_test.to_csv('../data/X_test.csv')"
   ]
  },
  {
   "cell_type": "markdown",
   "metadata": {},
   "source": [
    "### Modeling"
   ]
  },
  {
   "cell_type": "code",
   "execution_count": 19,
   "metadata": {
    "collapsed": true
   },
   "outputs": [],
   "source": [
    "# Create linear regression object\n",
    "regr = linear_model.LinearRegression()"
   ]
  },
  {
   "cell_type": "code",
   "execution_count": 20,
   "metadata": {},
   "outputs": [
    {
     "data": {
      "text/plain": [
       "LinearRegression(copy_X=True, fit_intercept=True, n_jobs=1, normalize=False)"
      ]
     },
     "execution_count": 20,
     "metadata": {},
     "output_type": "execute_result"
    }
   ],
   "source": [
    "# Train the model using the training sets\n",
    "regr.fit(X_train, y_train)"
   ]
  },
  {
   "cell_type": "code",
   "execution_count": 21,
   "metadata": {
    "collapsed": true
   },
   "outputs": [],
   "source": [
    "# Make predictions using the testing set\n",
    "y_pred = regr.predict(X_test)"
   ]
  },
  {
   "cell_type": "code",
   "execution_count": 22,
   "metadata": {},
   "outputs": [
    {
     "name": "stdout",
     "output_type": "stream",
     "text": [
      "('Coefficients: \\n', array([ -2.31972610e-03,   2.45828947e-03,  -3.38460260e-04,\n",
      "         7.07086933e-04,  -2.48394920e-04,  -1.17603128e-04,\n",
      "         5.09192269e-04,   1.02387331e-03,  -8.76486163e-04,\n",
      "        -4.24237888e-04,   8.82778110e-03,   2.05699777e-03,\n",
      "        -9.72897473e-04,  -2.15642608e-13,   1.17673296e-08,\n",
      "         2.13810221e-06,   4.69698509e+00,   4.18734722e-02,\n",
      "         4.40499477e-02,  -1.00027138e-06]))\n",
      "Mean squared error: 16.42\n",
      "Variance score: 0.65\n"
     ]
    }
   ],
   "source": [
    "# The coefficients\n",
    "print('Coefficients: \\n', regr.coef_)\n",
    "# The mean squared error\n",
    "print(\"Mean squared error: %.2f\"\n",
    "      % mean_squared_error(y_test, y_pred))\n",
    "# Explained variance score: 1 is perfect prediction\n",
    "print('Variance score: %.2f' % r2_score(y_test, y_pred))"
   ]
  },
  {
   "cell_type": "code",
   "execution_count": 23,
   "metadata": {},
   "outputs": [
    {
     "data": {
      "text/html": [
       "<table class=\"simpletable\">\n",
       "<caption>OLS Regression Results</caption>\n",
       "<tr>\n",
       "  <th>Dep. Variable:</th>     <td>AveTemperature</td>  <th>  R-squared:         </th> <td>   0.858</td> \n",
       "</tr>\n",
       "<tr>\n",
       "  <th>Model:</th>                   <td>OLS</td>       <th>  Adj. R-squared:    </th> <td>   0.854</td> \n",
       "</tr>\n",
       "<tr>\n",
       "  <th>Method:</th>             <td>Least Squares</td>  <th>  F-statistic:       </th> <td>   203.1</td> \n",
       "</tr>\n",
       "<tr>\n",
       "  <th>Date:</th>             <td>Wed, 03 Oct 2018</td> <th>  Prob (F-statistic):</th> <td>5.04e-256</td>\n",
       "</tr>\n",
       "<tr>\n",
       "  <th>Time:</th>                 <td>13:15:32</td>     <th>  Log-Likelihood:    </th> <td> -1562.4</td> \n",
       "</tr>\n",
       "<tr>\n",
       "  <th>No. Observations:</th>      <td>   660</td>      <th>  AIC:               </th> <td>   3165.</td> \n",
       "</tr>\n",
       "<tr>\n",
       "  <th>Df Residuals:</th>          <td>   640</td>      <th>  BIC:               </th> <td>   3255.</td> \n",
       "</tr>\n",
       "<tr>\n",
       "  <th>Df Model:</th>              <td>    19</td>      <th>                     </th>     <td> </td>    \n",
       "</tr>\n",
       "<tr>\n",
       "  <th>Covariance Type:</th>      <td>nonrobust</td>    <th>                     </th>     <td> </td>    \n",
       "</tr>\n",
       "</table>\n",
       "<table class=\"simpletable\">\n",
       "<tr>\n",
       "        <td></td>           <th>coef</th>     <th>std err</th>      <th>t</th>      <th>P>|t|</th>  <th>[0.025</th>    <th>0.975]</th>  \n",
       "</tr>\n",
       "<tr>\n",
       "  <th>const</th>         <td>   -9.4292</td> <td>    1.184</td> <td>   -7.966</td> <td> 0.000</td> <td>  -11.754</td> <td>   -7.105</td>\n",
       "</tr>\n",
       "<tr>\n",
       "  <th>CO2</th>           <td>   -0.0023</td> <td>    0.000</td> <td>   -7.353</td> <td> 0.000</td> <td>   -0.003</td> <td>   -0.002</td>\n",
       "</tr>\n",
       "<tr>\n",
       "  <th>CO2prox1000</th>   <td>    0.0025</td> <td>    0.000</td> <td>    8.249</td> <td> 0.000</td> <td>    0.002</td> <td>    0.003</td>\n",
       "</tr>\n",
       "<tr>\n",
       "  <th>CO2prox2000</th>   <td>   -0.0003</td> <td> 9.58e-05</td> <td>   -3.533</td> <td> 0.000</td> <td>   -0.001</td> <td>   -0.000</td>\n",
       "</tr>\n",
       "<tr>\n",
       "  <th>CO2prox3000</th>   <td>    0.0007</td> <td>    0.000</td> <td>    5.605</td> <td> 0.000</td> <td>    0.000</td> <td>    0.001</td>\n",
       "</tr>\n",
       "<tr>\n",
       "  <th>CO2prox4000</th>   <td>   -0.0002</td> <td> 6.92e-05</td> <td>   -3.590</td> <td> 0.000</td> <td>   -0.000</td> <td>   -0.000</td>\n",
       "</tr>\n",
       "<tr>\n",
       "  <th>CO2prox5000</th>   <td>   -0.0001</td> <td> 4.53e-05</td> <td>   -2.596</td> <td> 0.010</td> <td>   -0.000</td> <td>-2.86e-05</td>\n",
       "</tr>\n",
       "<tr>\n",
       "  <th>CO2prox6000</th>   <td>    0.0005</td> <td> 6.81e-05</td> <td>    7.480</td> <td> 0.000</td> <td>    0.000</td> <td>    0.001</td>\n",
       "</tr>\n",
       "<tr>\n",
       "  <th>CO2prox7000</th>   <td>    0.0010</td> <td>    0.000</td> <td>    9.878</td> <td> 0.000</td> <td>    0.001</td> <td>    0.001</td>\n",
       "</tr>\n",
       "<tr>\n",
       "  <th>CO2prox8000</th>   <td>   -0.0009</td> <td>    0.000</td> <td>   -6.684</td> <td> 0.000</td> <td>   -0.001</td> <td>   -0.001</td>\n",
       "</tr>\n",
       "<tr>\n",
       "  <th>CO2prox9000</th>   <td>   -0.0004</td> <td>    0.000</td> <td>   -3.084</td> <td> 0.002</td> <td>   -0.001</td> <td>   -0.000</td>\n",
       "</tr>\n",
       "<tr>\n",
       "  <th>CO2prox10000</th>  <td>    0.0088</td> <td>    0.001</td> <td>   15.284</td> <td> 0.000</td> <td>    0.008</td> <td>    0.010</td>\n",
       "</tr>\n",
       "<tr>\n",
       "  <th>CO2prox11000</th>  <td>    0.0021</td> <td>    0.000</td> <td>   12.942</td> <td> 0.000</td> <td>    0.002</td> <td>    0.002</td>\n",
       "</tr>\n",
       "<tr>\n",
       "  <th>CO2prox12000</th>  <td>   -0.0010</td> <td>    0.000</td> <td>   -7.772</td> <td> 0.000</td> <td>   -0.001</td> <td>   -0.001</td>\n",
       "</tr>\n",
       "<tr>\n",
       "  <th>CO2prox13000</th>  <td>-7.389e-13</td> <td> 8.68e-14</td> <td>   -8.517</td> <td> 0.000</td> <td>-9.09e-13</td> <td>-5.69e-13</td>\n",
       "</tr>\n",
       "<tr>\n",
       "  <th>Population</th>    <td> 1.177e-08</td> <td>  8.3e-10</td> <td>   14.185</td> <td> 0.000</td> <td> 1.01e-08</td> <td> 1.34e-08</td>\n",
       "</tr>\n",
       "<tr>\n",
       "  <th>GDP</th>           <td> 2.138e-06</td> <td> 1.96e-07</td> <td>   10.923</td> <td> 0.000</td> <td> 1.75e-06</td> <td> 2.52e-06</td>\n",
       "</tr>\n",
       "<tr>\n",
       "  <th>FertilityRate</th> <td>    4.6970</td> <td>    0.251</td> <td>   18.742</td> <td> 0.000</td> <td>    4.205</td> <td>    5.189</td>\n",
       "</tr>\n",
       "<tr>\n",
       "  <th>ElecFossi</th>     <td>    0.0419</td> <td>    0.007</td> <td>    5.700</td> <td> 0.000</td> <td>    0.027</td> <td>    0.056</td>\n",
       "</tr>\n",
       "<tr>\n",
       "  <th>ElecNuclear</th>   <td>    0.0440</td> <td>    0.009</td> <td>    4.733</td> <td> 0.000</td> <td>    0.026</td> <td>    0.062</td>\n",
       "</tr>\n",
       "<tr>\n",
       "  <th>ForestArea</th>    <td>    -1e-06</td> <td> 1.03e-07</td> <td>   -9.710</td> <td> 0.000</td> <td> -1.2e-06</td> <td>-7.98e-07</td>\n",
       "</tr>\n",
       "</table>\n",
       "<table class=\"simpletable\">\n",
       "<tr>\n",
       "  <th>Omnibus:</th>       <td>45.561</td> <th>  Durbin-Watson:     </th> <td>   1.925</td>\n",
       "</tr>\n",
       "<tr>\n",
       "  <th>Prob(Omnibus):</th> <td> 0.000</td> <th>  Jarque-Bera (JB):  </th> <td> 146.148</td>\n",
       "</tr>\n",
       "<tr>\n",
       "  <th>Skew:</th>          <td>-0.252</td> <th>  Prob(JB):          </th> <td>1.84e-32</td>\n",
       "</tr>\n",
       "<tr>\n",
       "  <th>Kurtosis:</th>      <td> 5.250</td> <th>  Cond. No.          </th> <td>1.85e+22</td>\n",
       "</tr>\n",
       "</table>"
      ],
      "text/plain": [
       "<class 'statsmodels.iolib.summary.Summary'>\n",
       "\"\"\"\n",
       "                            OLS Regression Results                            \n",
       "==============================================================================\n",
       "Dep. Variable:         AveTemperature   R-squared:                       0.858\n",
       "Model:                            OLS   Adj. R-squared:                  0.854\n",
       "Method:                 Least Squares   F-statistic:                     203.1\n",
       "Date:                Wed, 03 Oct 2018   Prob (F-statistic):          5.04e-256\n",
       "Time:                        13:15:32   Log-Likelihood:                -1562.4\n",
       "No. Observations:                 660   AIC:                             3165.\n",
       "Df Residuals:                     640   BIC:                             3255.\n",
       "Df Model:                          19                                         \n",
       "Covariance Type:            nonrobust                                         \n",
       "=================================================================================\n",
       "                    coef    std err          t      P>|t|      [0.025      0.975]\n",
       "---------------------------------------------------------------------------------\n",
       "const            -9.4292      1.184     -7.966      0.000     -11.754      -7.105\n",
       "CO2              -0.0023      0.000     -7.353      0.000      -0.003      -0.002\n",
       "CO2prox1000       0.0025      0.000      8.249      0.000       0.002       0.003\n",
       "CO2prox2000      -0.0003   9.58e-05     -3.533      0.000      -0.001      -0.000\n",
       "CO2prox3000       0.0007      0.000      5.605      0.000       0.000       0.001\n",
       "CO2prox4000      -0.0002   6.92e-05     -3.590      0.000      -0.000      -0.000\n",
       "CO2prox5000      -0.0001   4.53e-05     -2.596      0.010      -0.000   -2.86e-05\n",
       "CO2prox6000       0.0005   6.81e-05      7.480      0.000       0.000       0.001\n",
       "CO2prox7000       0.0010      0.000      9.878      0.000       0.001       0.001\n",
       "CO2prox8000      -0.0009      0.000     -6.684      0.000      -0.001      -0.001\n",
       "CO2prox9000      -0.0004      0.000     -3.084      0.002      -0.001      -0.000\n",
       "CO2prox10000      0.0088      0.001     15.284      0.000       0.008       0.010\n",
       "CO2prox11000      0.0021      0.000     12.942      0.000       0.002       0.002\n",
       "CO2prox12000     -0.0010      0.000     -7.772      0.000      -0.001      -0.001\n",
       "CO2prox13000  -7.389e-13   8.68e-14     -8.517      0.000   -9.09e-13   -5.69e-13\n",
       "Population     1.177e-08    8.3e-10     14.185      0.000    1.01e-08    1.34e-08\n",
       "GDP            2.138e-06   1.96e-07     10.923      0.000    1.75e-06    2.52e-06\n",
       "FertilityRate     4.6970      0.251     18.742      0.000       4.205       5.189\n",
       "ElecFossi         0.0419      0.007      5.700      0.000       0.027       0.056\n",
       "ElecNuclear       0.0440      0.009      4.733      0.000       0.026       0.062\n",
       "ForestArea        -1e-06   1.03e-07     -9.710      0.000    -1.2e-06   -7.98e-07\n",
       "==============================================================================\n",
       "Omnibus:                       45.561   Durbin-Watson:                   1.925\n",
       "Prob(Omnibus):                  0.000   Jarque-Bera (JB):              146.148\n",
       "Skew:                          -0.252   Prob(JB):                     1.84e-32\n",
       "Kurtosis:                       5.250   Cond. No.                     1.85e+22\n",
       "==============================================================================\n",
       "\n",
       "Warnings:\n",
       "[1] Standard Errors assume that the covariance matrix of the errors is correctly specified.\n",
       "[2] The smallest eigenvalue is 1.88e-25. This might indicate that there are\n",
       "strong multicollinearity problems or that the design matrix is singular.\n",
       "\"\"\""
      ]
     },
     "execution_count": 23,
     "metadata": {},
     "output_type": "execute_result"
    }
   ],
   "source": [
    "import statsmodels.api as sm\n",
    "X = sm.add_constant(X_train)\n",
    "model = sm.OLS(y_train, X).fit()\n",
    "model.summary()"
   ]
  },
  {
   "cell_type": "code",
   "execution_count": null,
   "metadata": {
    "collapsed": true
   },
   "outputs": [],
   "source": []
  }
 ],
 "metadata": {
  "kernelspec": {
   "display_name": "Python 2",
   "language": "python",
   "name": "python2"
  },
  "language_info": {
   "codemirror_mode": {
    "name": "ipython",
    "version": 2
   },
   "file_extension": ".py",
   "mimetype": "text/x-python",
   "name": "python",
   "nbconvert_exporter": "python",
   "pygments_lexer": "ipython2",
   "version": "2.7.13"
  }
 },
 "nbformat": 4,
 "nbformat_minor": 2
}
