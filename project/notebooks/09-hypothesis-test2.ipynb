{
 "cells": [
  {
   "cell_type": "markdown",
   "metadata": {},
   "source": [
    "### Hypothesis testing 2:\n",
    "\n",
    "* H0 (Null) CO2 impacts everyone irrespective of Co2 proximity\n",
    "* Ha (alternate) Those countries with proximity to higher levels Co2 (i.e. <2000) are more impacted\n",
    "\n",
    "\n",
    "* dataset1 = average temperatures change 1960-2010 fro countries with <=80% Co2 within 2000 miles\n",
    "* dataset2 = average temperatures change 1960-2010 for countries with >80% Co2 within 2000 miles\n",
    "\n",
    "\n",
    "* H0 = Mean (dataset 2) - Mean (dataset 1) = 0\n",
    "* Ha = Mean (dataset 2) - Mean (dataset 1) > 0\n",
    "\n",
    "NOTE: \n",
    "* average temperatures change is defined as the difference between first (1960) and last year (2012) in the dataset, divided by number of years.\n"
   ]
  },
  {
   "cell_type": "markdown",
   "metadata": {},
   "source": [
    "### Load packages"
   ]
  },
  {
   "cell_type": "code",
   "execution_count": 1,
   "metadata": {
    "collapsed": true
   },
   "outputs": [],
   "source": [
    "import numpy as np\n",
    "import pandas as pd\n",
    "import matplotlib.pyplot as plt\n",
    "import seaborn as sns\n",
    "%matplotlib inline"
   ]
  },
  {
   "cell_type": "code",
   "execution_count": 2,
   "metadata": {
    "collapsed": true
   },
   "outputs": [],
   "source": [
    "from scipy.stats import ttest_ind"
   ]
  },
  {
   "cell_type": "markdown",
   "metadata": {},
   "source": [
    "### Load and clean data"
   ]
  },
  {
   "cell_type": "code",
   "execution_count": 3,
   "metadata": {},
   "outputs": [],
   "source": [
    "# load dataset containing smoothed average temperatures\n",
    "df = pd.read_csv('../data/ewma.csv', header=0, parse_dates=[0], squeeze=True)"
   ]
  },
  {
   "cell_type": "code",
   "execution_count": 4,
   "metadata": {},
   "outputs": [
    {
     "data": {
      "text/html": [
       "<div>\n",
       "<style>\n",
       "    .dataframe thead tr:only-child th {\n",
       "        text-align: right;\n",
       "    }\n",
       "\n",
       "    .dataframe thead th {\n",
       "        text-align: left;\n",
       "    }\n",
       "\n",
       "    .dataframe tbody tr th {\n",
       "        vertical-align: top;\n",
       "    }\n",
       "</style>\n",
       "<table border=\"1\" class=\"dataframe\">\n",
       "  <thead>\n",
       "    <tr style=\"text-align: right;\">\n",
       "      <th></th>\n",
       "      <th>ewma</th>\n",
       "      <th>observed</th>\n",
       "      <th>squared_error</th>\n",
       "      <th>Country</th>\n",
       "      <th>Year</th>\n",
       "    </tr>\n",
       "  </thead>\n",
       "  <tbody>\n",
       "    <tr>\n",
       "      <th>0</th>\n",
       "      <td>25.16725</td>\n",
       "      <td>25.167250</td>\n",
       "      <td>0.000000</td>\n",
       "      <td>Bahamas</td>\n",
       "      <td>1960</td>\n",
       "    </tr>\n",
       "    <tr>\n",
       "      <th>1</th>\n",
       "      <td>25.286324999999998</td>\n",
       "      <td>25.383750</td>\n",
       "      <td>0.009492</td>\n",
       "      <td>Bahamas</td>\n",
       "      <td>1961</td>\n",
       "    </tr>\n",
       "    <tr>\n",
       "      <th>2</th>\n",
       "      <td>25.20723615591362</td>\n",
       "      <td>25.089583</td>\n",
       "      <td>0.013842</td>\n",
       "      <td>Bahamas</td>\n",
       "      <td>1962</td>\n",
       "    </tr>\n",
       "    <tr>\n",
       "      <th>3</th>\n",
       "      <td>25.188818665495045</td>\n",
       "      <td>25.151333</td>\n",
       "      <td>0.001405</td>\n",
       "      <td>Bahamas</td>\n",
       "      <td>1963</td>\n",
       "    </tr>\n",
       "    <tr>\n",
       "      <th>4</th>\n",
       "      <td>25.264992860784492</td>\n",
       "      <td>25.454167</td>\n",
       "      <td>0.035787</td>\n",
       "      <td>Bahamas</td>\n",
       "      <td>1964</td>\n",
       "    </tr>\n",
       "  </tbody>\n",
       "</table>\n",
       "</div>"
      ],
      "text/plain": [
       "                 ewma   observed  squared_error  Country  Year\n",
       "0            25.16725  25.167250       0.000000  Bahamas  1960\n",
       "1  25.286324999999998  25.383750       0.009492  Bahamas  1961\n",
       "2   25.20723615591362  25.089583       0.013842  Bahamas  1962\n",
       "3  25.188818665495045  25.151333       0.001405  Bahamas  1963\n",
       "4  25.264992860784492  25.454167       0.035787  Bahamas  1964"
      ]
     },
     "execution_count": 4,
     "metadata": {},
     "output_type": "execute_result"
    }
   ],
   "source": [
    "df.head()"
   ]
  },
  {
   "cell_type": "code",
   "execution_count": 5,
   "metadata": {},
   "outputs": [],
   "source": [
    "# compute average temperature change\n",
    "df_change = df[df.Year.isin(['1960', '2012'])] \\\n",
    "            .loc[:,['Country','Year', 'ewma']] \\\n",
    "            .pivot(index='Country', columns='Year', values='ewma')"
   ]
  },
  {
   "cell_type": "code",
   "execution_count": 6,
   "metadata": {},
   "outputs": [],
   "source": [
    "df_change[1960] = pd.to_numeric(df_change[1960])\n",
    "df_change[2012] = pd.to_numeric(df_change[2012])"
   ]
  },
  {
   "cell_type": "code",
   "execution_count": 7,
   "metadata": {},
   "outputs": [],
   "source": [
    "# average temperatures change is defined as the difference between first (1960) and last year (2012) in the dataset, \n",
    "# divided by number of years.\n",
    "df_change['AvgTempChange'] = (df_change[2012] - df_change[1960] ) / (2012 - 1960 + 1)\n",
    "df_change.reset_index().to_csv('../data/df_avg_temp_change.csv', index=False)"
   ]
  },
  {
   "cell_type": "code",
   "execution_count": 8,
   "metadata": {},
   "outputs": [],
   "source": [
    "# get a list of countries >80% Co2 within 2000 miles\n",
    "df_co2 = pd.read_csv('../data/ADS_project_dataset2.csv', header=0, parse_dates=[0], squeeze=True)\n",
    "df_total_co2prox2000 = df_co2.groupby('Country').CO2prox2000.sum().to_frame()\n",
    "cutoff80pct = np.percentile(df_total_co2prox2000, 80)\n",
    "df_change['flag80pctCO2'] = df_total_co2prox2000.CO2prox2000 >= cutoff80pct"
   ]
  },
  {
   "cell_type": "code",
   "execution_count": 9,
   "metadata": {},
   "outputs": [
    {
     "data": {
      "text/html": [
       "<div>\n",
       "<style>\n",
       "    .dataframe thead tr:only-child th {\n",
       "        text-align: right;\n",
       "    }\n",
       "\n",
       "    .dataframe thead th {\n",
       "        text-align: left;\n",
       "    }\n",
       "\n",
       "    .dataframe tbody tr th {\n",
       "        vertical-align: top;\n",
       "    }\n",
       "</style>\n",
       "<table border=\"1\" class=\"dataframe\">\n",
       "  <thead>\n",
       "    <tr style=\"text-align: right;\">\n",
       "      <th>Year</th>\n",
       "      <th>1960</th>\n",
       "      <th>2012</th>\n",
       "      <th>AvgTempChange</th>\n",
       "      <th>flag80pctCO2</th>\n",
       "    </tr>\n",
       "    <tr>\n",
       "      <th>Country</th>\n",
       "      <th></th>\n",
       "      <th></th>\n",
       "      <th></th>\n",
       "      <th></th>\n",
       "    </tr>\n",
       "  </thead>\n",
       "  <tbody>\n",
       "    <tr>\n",
       "      <th>Algeria</th>\n",
       "      <td>23.504083</td>\n",
       "      <td>24.211963</td>\n",
       "      <td>0.013356</td>\n",
       "      <td>True</td>\n",
       "    </tr>\n",
       "    <tr>\n",
       "      <th>Bahamas</th>\n",
       "      <td>25.167250</td>\n",
       "      <td>25.790242</td>\n",
       "      <td>0.011755</td>\n",
       "      <td>True</td>\n",
       "    </tr>\n",
       "    <tr>\n",
       "      <th>Bangladesh</th>\n",
       "      <td>25.484250</td>\n",
       "      <td>25.519196</td>\n",
       "      <td>0.000659</td>\n",
       "      <td>True</td>\n",
       "    </tr>\n",
       "    <tr>\n",
       "      <th>Belize</th>\n",
       "      <td>25.351583</td>\n",
       "      <td>25.731637</td>\n",
       "      <td>0.007171</td>\n",
       "      <td>True</td>\n",
       "    </tr>\n",
       "    <tr>\n",
       "      <th>Cambodia</th>\n",
       "      <td>27.172417</td>\n",
       "      <td>27.372887</td>\n",
       "      <td>0.003782</td>\n",
       "      <td>True</td>\n",
       "    </tr>\n",
       "    <tr>\n",
       "      <th>Canada</th>\n",
       "      <td>-4.406833</td>\n",
       "      <td>-3.474706</td>\n",
       "      <td>0.017587</td>\n",
       "      <td>True</td>\n",
       "    </tr>\n",
       "    <tr>\n",
       "      <th>China</th>\n",
       "      <td>6.890917</td>\n",
       "      <td>7.513387</td>\n",
       "      <td>0.011745</td>\n",
       "      <td>True</td>\n",
       "    </tr>\n",
       "    <tr>\n",
       "      <th>Cuba</th>\n",
       "      <td>25.533833</td>\n",
       "      <td>26.056143</td>\n",
       "      <td>0.009855</td>\n",
       "      <td>True</td>\n",
       "    </tr>\n",
       "    <tr>\n",
       "      <th>Cyprus</th>\n",
       "      <td>19.935833</td>\n",
       "      <td>19.968461</td>\n",
       "      <td>0.000616</td>\n",
       "      <td>True</td>\n",
       "    </tr>\n",
       "    <tr>\n",
       "      <th>Dominican Republic</th>\n",
       "      <td>26.083750</td>\n",
       "      <td>26.379186</td>\n",
       "      <td>0.005574</td>\n",
       "      <td>True</td>\n",
       "    </tr>\n",
       "    <tr>\n",
       "      <th>El Salvador</th>\n",
       "      <td>25.036167</td>\n",
       "      <td>25.569906</td>\n",
       "      <td>0.010071</td>\n",
       "      <td>True</td>\n",
       "    </tr>\n",
       "    <tr>\n",
       "      <th>Greece</th>\n",
       "      <td>15.506083</td>\n",
       "      <td>15.762896</td>\n",
       "      <td>0.004846</td>\n",
       "      <td>True</td>\n",
       "    </tr>\n",
       "    <tr>\n",
       "      <th>Guatemala</th>\n",
       "      <td>23.355833</td>\n",
       "      <td>23.789677</td>\n",
       "      <td>0.008186</td>\n",
       "      <td>True</td>\n",
       "    </tr>\n",
       "    <tr>\n",
       "      <th>Haiti</th>\n",
       "      <td>26.781583</td>\n",
       "      <td>27.064338</td>\n",
       "      <td>0.005335</td>\n",
       "      <td>True</td>\n",
       "    </tr>\n",
       "    <tr>\n",
       "      <th>Honduras</th>\n",
       "      <td>24.902000</td>\n",
       "      <td>25.380585</td>\n",
       "      <td>0.009030</td>\n",
       "      <td>True</td>\n",
       "    </tr>\n",
       "    <tr>\n",
       "      <th>India</th>\n",
       "      <td>24.287167</td>\n",
       "      <td>24.675645</td>\n",
       "      <td>0.007330</td>\n",
       "      <td>True</td>\n",
       "    </tr>\n",
       "    <tr>\n",
       "      <th>Jamaica</th>\n",
       "      <td>26.463917</td>\n",
       "      <td>26.786166</td>\n",
       "      <td>0.006080</td>\n",
       "      <td>True</td>\n",
       "    </tr>\n",
       "    <tr>\n",
       "      <th>Japan</th>\n",
       "      <td>12.599833</td>\n",
       "      <td>12.835218</td>\n",
       "      <td>0.004441</td>\n",
       "      <td>True</td>\n",
       "    </tr>\n",
       "    <tr>\n",
       "      <th>Kyrgyzstan</th>\n",
       "      <td>3.011250</td>\n",
       "      <td>4.343588</td>\n",
       "      <td>0.025138</td>\n",
       "      <td>True</td>\n",
       "    </tr>\n",
       "    <tr>\n",
       "      <th>Laos</th>\n",
       "      <td>24.113417</td>\n",
       "      <td>24.294057</td>\n",
       "      <td>0.003408</td>\n",
       "      <td>True</td>\n",
       "    </tr>\n",
       "    <tr>\n",
       "      <th>Lebanon</th>\n",
       "      <td>18.837333</td>\n",
       "      <td>18.846349</td>\n",
       "      <td>0.000170</td>\n",
       "      <td>True</td>\n",
       "    </tr>\n",
       "    <tr>\n",
       "      <th>Libya</th>\n",
       "      <td>23.134667</td>\n",
       "      <td>23.401774</td>\n",
       "      <td>0.005040</td>\n",
       "      <td>True</td>\n",
       "    </tr>\n",
       "    <tr>\n",
       "      <th>Mexico</th>\n",
       "      <td>20.746583</td>\n",
       "      <td>21.323686</td>\n",
       "      <td>0.010889</td>\n",
       "      <td>True</td>\n",
       "    </tr>\n",
       "    <tr>\n",
       "      <th>Mongolia</th>\n",
       "      <td>-0.796583</td>\n",
       "      <td>0.306792</td>\n",
       "      <td>0.020818</td>\n",
       "      <td>True</td>\n",
       "    </tr>\n",
       "    <tr>\n",
       "      <th>Morocco</th>\n",
       "      <td>17.856250</td>\n",
       "      <td>18.778643</td>\n",
       "      <td>0.017404</td>\n",
       "      <td>True</td>\n",
       "    </tr>\n",
       "    <tr>\n",
       "      <th>Nepal</th>\n",
       "      <td>15.314583</td>\n",
       "      <td>15.618390</td>\n",
       "      <td>0.005732</td>\n",
       "      <td>True</td>\n",
       "    </tr>\n",
       "    <tr>\n",
       "      <th>Nicaragua</th>\n",
       "      <td>26.227083</td>\n",
       "      <td>26.658129</td>\n",
       "      <td>0.008133</td>\n",
       "      <td>True</td>\n",
       "    </tr>\n",
       "    <tr>\n",
       "      <th>North Korea</th>\n",
       "      <td>7.487833</td>\n",
       "      <td>7.665572</td>\n",
       "      <td>0.003354</td>\n",
       "      <td>True</td>\n",
       "    </tr>\n",
       "    <tr>\n",
       "      <th>Philippines</th>\n",
       "      <td>26.844500</td>\n",
       "      <td>27.066458</td>\n",
       "      <td>0.004188</td>\n",
       "      <td>True</td>\n",
       "    </tr>\n",
       "    <tr>\n",
       "      <th>Russia</th>\n",
       "      <td>-5.936000</td>\n",
       "      <td>-3.994389</td>\n",
       "      <td>0.036634</td>\n",
       "      <td>True</td>\n",
       "    </tr>\n",
       "    <tr>\n",
       "      <th>South Korea</th>\n",
       "      <td>12.739500</td>\n",
       "      <td>12.706046</td>\n",
       "      <td>-0.000631</td>\n",
       "      <td>True</td>\n",
       "    </tr>\n",
       "    <tr>\n",
       "      <th>Tajikistan</th>\n",
       "      <td>3.975500</td>\n",
       "      <td>5.139045</td>\n",
       "      <td>0.021954</td>\n",
       "      <td>True</td>\n",
       "    </tr>\n",
       "    <tr>\n",
       "      <th>Thailand</th>\n",
       "      <td>26.591083</td>\n",
       "      <td>26.758645</td>\n",
       "      <td>0.003162</td>\n",
       "      <td>True</td>\n",
       "    </tr>\n",
       "    <tr>\n",
       "      <th>Turkey</th>\n",
       "      <td>12.580917</td>\n",
       "      <td>12.730969</td>\n",
       "      <td>0.002831</td>\n",
       "      <td>True</td>\n",
       "    </tr>\n",
       "    <tr>\n",
       "      <th>Vietnam</th>\n",
       "      <td>24.144083</td>\n",
       "      <td>24.316665</td>\n",
       "      <td>0.003256</td>\n",
       "      <td>True</td>\n",
       "    </tr>\n",
       "  </tbody>\n",
       "</table>\n",
       "</div>"
      ],
      "text/plain": [
       "Year                     1960       2012  AvgTempChange  flag80pctCO2\n",
       "Country                                                              \n",
       "Algeria             23.504083  24.211963       0.013356          True\n",
       "Bahamas             25.167250  25.790242       0.011755          True\n",
       "Bangladesh          25.484250  25.519196       0.000659          True\n",
       "Belize              25.351583  25.731637       0.007171          True\n",
       "Cambodia            27.172417  27.372887       0.003782          True\n",
       "Canada              -4.406833  -3.474706       0.017587          True\n",
       "China                6.890917   7.513387       0.011745          True\n",
       "Cuba                25.533833  26.056143       0.009855          True\n",
       "Cyprus              19.935833  19.968461       0.000616          True\n",
       "Dominican Republic  26.083750  26.379186       0.005574          True\n",
       "El Salvador         25.036167  25.569906       0.010071          True\n",
       "Greece              15.506083  15.762896       0.004846          True\n",
       "Guatemala           23.355833  23.789677       0.008186          True\n",
       "Haiti               26.781583  27.064338       0.005335          True\n",
       "Honduras            24.902000  25.380585       0.009030          True\n",
       "India               24.287167  24.675645       0.007330          True\n",
       "Jamaica             26.463917  26.786166       0.006080          True\n",
       "Japan               12.599833  12.835218       0.004441          True\n",
       "Kyrgyzstan           3.011250   4.343588       0.025138          True\n",
       "Laos                24.113417  24.294057       0.003408          True\n",
       "Lebanon             18.837333  18.846349       0.000170          True\n",
       "Libya               23.134667  23.401774       0.005040          True\n",
       "Mexico              20.746583  21.323686       0.010889          True\n",
       "Mongolia            -0.796583   0.306792       0.020818          True\n",
       "Morocco             17.856250  18.778643       0.017404          True\n",
       "Nepal               15.314583  15.618390       0.005732          True\n",
       "Nicaragua           26.227083  26.658129       0.008133          True\n",
       "North Korea          7.487833   7.665572       0.003354          True\n",
       "Philippines         26.844500  27.066458       0.004188          True\n",
       "Russia              -5.936000  -3.994389       0.036634          True\n",
       "South Korea         12.739500  12.706046      -0.000631          True\n",
       "Tajikistan           3.975500   5.139045       0.021954          True\n",
       "Thailand            26.591083  26.758645       0.003162          True\n",
       "Turkey              12.580917  12.730969       0.002831          True\n",
       "Vietnam             24.144083  24.316665       0.003256          True"
      ]
     },
     "execution_count": 9,
     "metadata": {},
     "output_type": "execute_result"
    }
   ],
   "source": [
    "# list countries >80% Co2 within 2000 miles\n",
    "df_change[df_change['flag80pctCO2']]"
   ]
  },
  {
   "cell_type": "code",
   "execution_count": 10,
   "metadata": {
    "collapsed": true
   },
   "outputs": [],
   "source": [
    "# get average temperature changes for countries >80% Co2 within 2000 miles\n",
    "TempChange80plus = df_change[df_change['flag80pctCO2']].AvgTempChange"
   ]
  },
  {
   "cell_type": "code",
   "execution_count": 11,
   "metadata": {},
   "outputs": [],
   "source": [
    "# get average temperature changes for countries <=80% Co2 within 2000 miles\n",
    "TempChange80less = df_change[~df_change['flag80pctCO2']].AvgTempChange"
   ]
  },
  {
   "cell_type": "markdown",
   "metadata": {},
   "source": [
    "### Visualization"
   ]
  },
  {
   "cell_type": "code",
   "execution_count": 12,
   "metadata": {},
   "outputs": [
    {
     "data": {
      "image/png": "[encoded data removed]",
      "text/plain": [
       "<matplotlib.figure.Figure at 0x227909d4588>"
      ]
     },
     "metadata": {},
     "output_type": "display_data"
    }
   ],
   "source": [
    "# compare distribution of average temperatures change between countries >80% Co2 within 2000 miles and the rest\n",
    "plt.figure(figsize=(12,8))\n",
    "plt.title('Distribution of Average Temperatures Change: >80% Co2 within 2000 miles vs. the rest')\n",
    "sns.distplot(TempChange80plus, hist=False, label='>80% Co2 within 2000 miles')\n",
    "sns.distplot(TempChange80less, hist=False, label='<=80% Co2 within 2000 miles');"
   ]
  },
  {
   "cell_type": "code",
   "execution_count": 13,
   "metadata": {},
   "outputs": [
    {
     "data": {
      "image/png": "[encoded data removed]",
      "text/plain": [
       "<matplotlib.figure.Figure at 0x22790cc44e0>"
      ]
     },
     "metadata": {},
     "output_type": "display_data"
    }
   ],
   "source": [
    "# compare distribution of temperatures in 1990 and 2010\n",
    "plt.figure(figsize=(12,8))\n",
    "plt.title('Distribution of Average Temperatures Change: >80% Co2 within 2000 miles vs. the rest')\n",
    "sns.violinplot(x='flag80pctCO2', y='AvgTempChange', hue='flag80pctCO2', data=df_change);"
   ]
  },
  {
   "cell_type": "markdown",
   "metadata": {},
   "source": [
    "### Hypothesis Testing"
   ]
  },
  {
   "cell_type": "code",
   "execution_count": 14,
   "metadata": {},
   "outputs": [
    {
     "data": {
      "text/plain": [
       "Ttest_indResult(statistic=-3.2513339419030447, pvalue=0.001380763683512286)"
      ]
     },
     "execution_count": 14,
     "metadata": {},
     "output_type": "execute_result"
    }
   ],
   "source": [
    "ttest_ind(TempChange80plus, TempChange80less)"
   ]
  },
  {
   "cell_type": "markdown",
   "metadata": {},
   "source": [
    "** FINDINGS: **\n",
    "* The observed p-value is less than 0.025 and we reject null hypothesis that there is no difference in average temperatures change for the period of 1960 - 2012 between countries with >80% Co2 within 2000 miles and the rest.\n",
    "* However, test statistic of -3.25 suggests that, contorary to our alternative hypothesis, countries with >80% Co2 within 2000 miles experienced less average temperatures changes than the rest."
   ]
  }
 ],
 "metadata": {
  "kernelspec": {
   "display_name": "Python 3",
   "language": "python",
   "name": "python3"
  },
  "language_info": {
   "codemirror_mode": {
    "name": "ipython",
    "version": 3
   },
   "file_extension": ".py",
   "mimetype": "text/x-python",
   "name": "python",
   "nbconvert_exporter": "python",
   "pygments_lexer": "ipython3",
   "version": "3.6.1"
  }
 },
 "nbformat": 4,
 "nbformat_minor": 2
}
