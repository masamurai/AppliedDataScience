{
 "cells": [
  {
   "cell_type": "markdown",
   "metadata": {},
   "source": [
    "### Load packages"
   ]
  },
  {
   "cell_type": "code",
   "execution_count": 1,
   "metadata": {
    "collapsed": true
   },
   "outputs": [],
   "source": [
    "import numpy as np\n",
    "import pandas as pd\n",
    "import matplotlib.pyplot as plt\n",
    "import seaborn as sns\n",
    "%matplotlib inline"
   ]
  },
  {
   "cell_type": "code",
   "execution_count": 2,
   "metadata": {
    "collapsed": true
   },
   "outputs": [],
   "source": [
    "from sklearn import linear_model\n",
    "from sklearn.metrics import mean_squared_error, r2_score"
   ]
  },
  {
   "cell_type": "markdown",
   "metadata": {},
   "source": [
    "### Load datasets"
   ]
  },
  {
   "cell_type": "code",
   "execution_count": 14,
   "metadata": {
    "collapsed": true
   },
   "outputs": [],
   "source": [
    "# read data\n",
    "df = pd.read_csv('../data/df_clean.csv')"
   ]
  },
  {
   "cell_type": "code",
   "execution_count": 16,
   "metadata": {
    "collapsed": true
   },
   "outputs": [],
   "source": [
    "# split train and test\n",
    "last_year = df.Year.max()"
   ]
  },
  {
   "cell_type": "code",
   "execution_count": 17,
   "metadata": {
    "collapsed": true
   },
   "outputs": [],
   "source": [
    "df_train_raw = df[df.Year != last_year]\n",
    "df_test_raw = df[df.Year == last_year]"
   ]
  },
  {
   "cell_type": "code",
   "execution_count": 18,
   "metadata": {
    "collapsed": true
   },
   "outputs": [],
   "source": [
    "# get X and y\n",
    "y_train = df_train_raw['AveTemperature']\n",
    "X_train = df_train_raw.iloc[:,3:]\n",
    "y_test = df_test_raw['AveTemperature']\n",
    "X_test = df_test_raw.iloc[:,3:]"
   ]
  },
  {
   "cell_type": "code",
   "execution_count": 153,
   "metadata": {
    "collapsed": true
   },
   "outputs": [],
   "source": [
    "# # save datasets\n",
    "# y_train.to_csv('../data/y_train.csv')\n",
    "# X_train.to_csv('../data/X_train.csv')\n",
    "# y_test.to_csv('../data/y_test.csv')\n",
    "# X_test.to_csv('../data/X_test.csv')"
   ]
  },
  {
   "cell_type": "markdown",
   "metadata": {},
   "source": [
    "### Data clensing"
   ]
  },
  {
   "cell_type": "code",
   "execution_count": 3,
   "metadata": {
    "collapsed": true
   },
   "outputs": [],
   "source": [
    "# read csv file\n",
    "df_raw = pd.read_csv('../data/ADS_project_dataset2.csv')"
   ]
  },
  {
   "cell_type": "code",
   "execution_count": 42,
   "metadata": {
    "collapsed": true
   },
   "outputs": [],
   "source": [
    "col_list = ['Country', 'Year', 'AveTemperature', 'Population', 'GDP', 'FertilityRate', 'ElecFossi', 'ElecNuclear', \n",
    "            'EduSpend', 'ForestArea']"
   ]
  },
  {
   "cell_type": "code",
   "execution_count": 43,
   "metadata": {
    "collapsed": true
   },
   "outputs": [],
   "source": [
    "# filter data by year\n",
    "START_YEAR = 1990   # some countries are missing key predictors prior to 1990\n",
    "END_YEAR = 2012     # no temperature data after 2012\n",
    "NUM_YEAR = END_YEAR - START_YEAR + 1  # number of years to be included in the dataset\n",
    "# COL_DROP = ['SmokingRate', 'EduSpend', 'RoadTrans']   # columns to drop because the majority of the data is missing"
   ]
  },
  {
   "cell_type": "code",
   "execution_count": 44,
   "metadata": {},
   "outputs": [],
   "source": [
    "# set index and exclude rows before 1990 or after 2012 from the main data\n",
    "df = df_raw[(df_raw['Year'] >= START_YEAR) & (df_raw['Year'] <= END_YEAR) & (df_raw['Group'] == 'Top20')] \\\n",
    "    .loc[:,col_list]"
   ]
  },
  {
   "cell_type": "code",
   "execution_count": 48,
   "metadata": {},
   "outputs": [
    {
     "name": "stdout",
     "output_type": "stream",
     "text": [
      "<class 'pandas.core.frame.DataFrame'>\n",
      "Int64Index: 460 entries, 5264 to 9274\n",
      "Data columns (total 10 columns):\n",
      "Country           460 non-null object\n",
      "Year              460 non-null int64\n",
      "AveTemperature    460 non-null float64\n",
      "Population        460 non-null int64\n",
      "GDP               449 non-null float64\n",
      "FertilityRate     460 non-null float64\n",
      "ElecFossi         460 non-null float64\n",
      "ElecNuclear       298 non-null float64\n",
      "EduSpend          308 non-null float64\n",
      "ForestArea        460 non-null float64\n",
      "dtypes: float64(7), int64(2), object(1)\n",
      "memory usage: 59.5+ KB\n"
     ]
    }
   ],
   "source": [
    "df.info()"
   ]
  },
  {
   "cell_type": "code",
   "execution_count": 61,
   "metadata": {},
   "outputs": [],
   "source": [
    "# fill missing values\n",
    "df_fillna = df.sort_values(['Country', 'Year']).copy()\n",
    "df_fillna.ElecNuclear = df_fillna.ElecNuclear.fillna(0)\n",
    "df_fillna = df_fillna.fillna(method='backfill')"
   ]
  },
  {
   "cell_type": "code",
   "execution_count": 62,
   "metadata": {},
   "outputs": [
    {
     "name": "stdout",
     "output_type": "stream",
     "text": [
      "<class 'pandas.core.frame.DataFrame'>\n",
      "Int64Index: 460 entries, 5264 to 9274\n",
      "Data columns (total 10 columns):\n",
      "Country           460 non-null object\n",
      "Year              460 non-null int64\n",
      "AveTemperature    460 non-null float64\n",
      "Population        460 non-null int64\n",
      "GDP               460 non-null float64\n",
      "FertilityRate     460 non-null float64\n",
      "ElecFossi         460 non-null float64\n",
      "ElecNuclear       460 non-null float64\n",
      "EduSpend          460 non-null float64\n",
      "ForestArea        460 non-null float64\n",
      "dtypes: float64(7), int64(2), object(1)\n",
      "memory usage: 39.5+ KB\n"
     ]
    }
   ],
   "source": [
    "df_fillna.info()"
   ]
  },
  {
   "cell_type": "code",
   "execution_count": 63,
   "metadata": {
    "collapsed": true
   },
   "outputs": [],
   "source": [
    "X = df_fillna.iloc[:,3:]\n",
    "y = df_fillna['AveTemperature']"
   ]
  },
  {
   "cell_type": "markdown",
   "metadata": {},
   "source": [
    "### Modeling"
   ]
  },
  {
   "cell_type": "code",
   "execution_count": 66,
   "metadata": {},
   "outputs": [
    {
     "name": "stderr",
     "output_type": "stream",
     "text": [
      "C:\\Users\\m187531\\AppData\\Local\\conda\\conda\\envs\\my_root\\lib\\site-packages\\statsmodels\\compat\\pandas.py:56: FutureWarning: The pandas.core.datetools module is deprecated and will be removed in a future version. Please use the pandas.tseries module instead.\n",
      "  from pandas.core import datetools\n"
     ]
    },
    {
     "data": {
      "text/html": [
       "<table class=\"simpletable\">\n",
       "<caption>OLS Regression Results</caption>\n",
       "<tr>\n",
       "  <th>Dep. Variable:</th>     <td>AveTemperature</td>  <th>  R-squared:         </th> <td>   0.500</td>\n",
       "</tr>\n",
       "<tr>\n",
       "  <th>Model:</th>                   <td>OLS</td>       <th>  Adj. R-squared:    </th> <td>   0.492</td>\n",
       "</tr>\n",
       "<tr>\n",
       "  <th>Method:</th>             <td>Least Squares</td>  <th>  F-statistic:       </th> <td>   64.57</td>\n",
       "</tr>\n",
       "<tr>\n",
       "  <th>Date:</th>             <td>Sun, 14 Oct 2018</td> <th>  Prob (F-statistic):</th> <td>3.94e-64</td>\n",
       "</tr>\n",
       "<tr>\n",
       "  <th>Time:</th>                 <td>15:38:33</td>     <th>  Log-Likelihood:    </th> <td> -1487.2</td>\n",
       "</tr>\n",
       "<tr>\n",
       "  <th>No. Observations:</th>      <td>   460</td>      <th>  AIC:               </th> <td>   2990.</td>\n",
       "</tr>\n",
       "<tr>\n",
       "  <th>Df Residuals:</th>          <td>   452</td>      <th>  BIC:               </th> <td>   3023.</td>\n",
       "</tr>\n",
       "<tr>\n",
       "  <th>Df Model:</th>              <td>     7</td>      <th>                     </th>     <td> </td>   \n",
       "</tr>\n",
       "<tr>\n",
       "  <th>Covariance Type:</th>      <td>nonrobust</td>    <th>                     </th>     <td> </td>   \n",
       "</tr>\n",
       "</table>\n",
       "<table class=\"simpletable\">\n",
       "<tr>\n",
       "        <td></td>           <th>coef</th>     <th>std err</th>      <th>t</th>      <th>P>|t|</th>  <th>[0.025</th>    <th>0.975]</th>  \n",
       "</tr>\n",
       "<tr>\n",
       "  <th>const</th>         <td>   14.7792</td> <td>    2.102</td> <td>    7.032</td> <td> 0.000</td> <td>   10.649</td> <td>   18.910</td>\n",
       "</tr>\n",
       "<tr>\n",
       "  <th>Population</th>    <td> -4.58e-11</td> <td> 9.38e-10</td> <td>   -0.049</td> <td> 0.961</td> <td>-1.89e-09</td> <td>  1.8e-09</td>\n",
       "</tr>\n",
       "<tr>\n",
       "  <th>GDP</th>           <td> 8.881e-08</td> <td> 2.59e-07</td> <td>    0.343</td> <td> 0.732</td> <td> -4.2e-07</td> <td> 5.98e-07</td>\n",
       "</tr>\n",
       "<tr>\n",
       "  <th>FertilityRate</th> <td>    5.2319</td> <td>    0.386</td> <td>   13.550</td> <td> 0.000</td> <td>    4.473</td> <td>    5.991</td>\n",
       "</tr>\n",
       "<tr>\n",
       "  <th>ElecFossi</th>     <td>   -0.0771</td> <td>    0.016</td> <td>   -4.720</td> <td> 0.000</td> <td>   -0.109</td> <td>   -0.045</td>\n",
       "</tr>\n",
       "<tr>\n",
       "  <th>ElecNuclear</th>   <td>   -0.1291</td> <td>    0.022</td> <td>   -5.804</td> <td> 0.000</td> <td>   -0.173</td> <td>   -0.085</td>\n",
       "</tr>\n",
       "<tr>\n",
       "  <th>EduSpend</th>      <td>   -0.5094</td> <td>    0.272</td> <td>   -1.875</td> <td> 0.061</td> <td>   -1.043</td> <td>    0.025</td>\n",
       "</tr>\n",
       "<tr>\n",
       "  <th>ForestArea</th>    <td>-1.796e-06</td> <td>  1.7e-07</td> <td>  -10.551</td> <td> 0.000</td> <td>-2.13e-06</td> <td>-1.46e-06</td>\n",
       "</tr>\n",
       "</table>\n",
       "<table class=\"simpletable\">\n",
       "<tr>\n",
       "  <th>Omnibus:</th>       <td> 6.596</td> <th>  Durbin-Watson:     </th> <td>   0.144</td>\n",
       "</tr>\n",
       "<tr>\n",
       "  <th>Prob(Omnibus):</th> <td> 0.037</td> <th>  Jarque-Bera (JB):  </th> <td>   6.479</td>\n",
       "</tr>\n",
       "<tr>\n",
       "  <th>Skew:</th>          <td>-0.254</td> <th>  Prob(JB):          </th> <td>  0.0392</td>\n",
       "</tr>\n",
       "<tr>\n",
       "  <th>Kurtosis:</th>      <td> 3.283</td> <th>  Cond. No.          </th> <td>2.83e+09</td>\n",
       "</tr>\n",
       "</table>"
      ],
      "text/plain": [
       "<class 'statsmodels.iolib.summary.Summary'>\n",
       "\"\"\"\n",
       "                            OLS Regression Results                            \n",
       "==============================================================================\n",
       "Dep. Variable:         AveTemperature   R-squared:                       0.500\n",
       "Model:                            OLS   Adj. R-squared:                  0.492\n",
       "Method:                 Least Squares   F-statistic:                     64.57\n",
       "Date:                Sun, 14 Oct 2018   Prob (F-statistic):           3.94e-64\n",
       "Time:                        15:38:33   Log-Likelihood:                -1487.2\n",
       "No. Observations:                 460   AIC:                             2990.\n",
       "Df Residuals:                     452   BIC:                             3023.\n",
       "Df Model:                           7                                         \n",
       "Covariance Type:            nonrobust                                         \n",
       "=================================================================================\n",
       "                    coef    std err          t      P>|t|      [0.025      0.975]\n",
       "---------------------------------------------------------------------------------\n",
       "const            14.7792      2.102      7.032      0.000      10.649      18.910\n",
       "Population     -4.58e-11   9.38e-10     -0.049      0.961   -1.89e-09     1.8e-09\n",
       "GDP            8.881e-08   2.59e-07      0.343      0.732    -4.2e-07    5.98e-07\n",
       "FertilityRate     5.2319      0.386     13.550      0.000       4.473       5.991\n",
       "ElecFossi        -0.0771      0.016     -4.720      0.000      -0.109      -0.045\n",
       "ElecNuclear      -0.1291      0.022     -5.804      0.000      -0.173      -0.085\n",
       "EduSpend         -0.5094      0.272     -1.875      0.061      -1.043       0.025\n",
       "ForestArea    -1.796e-06    1.7e-07    -10.551      0.000   -2.13e-06   -1.46e-06\n",
       "==============================================================================\n",
       "Omnibus:                        6.596   Durbin-Watson:                   0.144\n",
       "Prob(Omnibus):                  0.037   Jarque-Bera (JB):                6.479\n",
       "Skew:                          -0.254   Prob(JB):                       0.0392\n",
       "Kurtosis:                       3.283   Cond. No.                     2.83e+09\n",
       "==============================================================================\n",
       "\n",
       "Warnings:\n",
       "[1] Standard Errors assume that the covariance matrix of the errors is correctly specified.\n",
       "[2] The condition number is large, 2.83e+09. This might indicate that there are\n",
       "strong multicollinearity or other numerical problems.\n",
       "\"\"\""
      ]
     },
     "execution_count": 66,
     "metadata": {},
     "output_type": "execute_result"
    }
   ],
   "source": [
    "import statsmodels.api as sm\n",
    "X = sm.add_constant(X)\n",
    "model = sm.OLS(y, X).fit()\n",
    "model.summary()"
   ]
  },
  {
   "cell_type": "code",
   "execution_count": null,
   "metadata": {
    "collapsed": true
   },
   "outputs": [],
   "source": []
  }
 ],
 "metadata": {
  "kernelspec": {
   "display_name": "Python 3",
   "language": "python",
   "name": "python3"
  },
  "language_info": {
   "codemirror_mode": {
    "name": "ipython",
    "version": 3
   },
   "file_extension": ".py",
   "mimetype": "text/x-python",
   "name": "python",
   "nbconvert_exporter": "python",
   "pygments_lexer": "ipython3",
   "version": "3.6.1"
  }
 },
 "nbformat": 4,
 "nbformat_minor": 2
}
