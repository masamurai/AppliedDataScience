{
 "cells": [
  {
   "cell_type": "markdown",
   "metadata": {},
   "source": [
    "## AWS Instance Configuration\n",
    "\n",
    "Following are the step-by-step instruction on AWS Instance Configuration accompanying [*\"A Lazy Girl's Guide to Setting Up Jupyter on EC2 for Deep Learning\"*](https://kenophobio.github.io/2017-01-10/deep-learning-jupyter-ec2/). I used a MAC to connect to my remote machine, and you should be able to estabish a connection from Windows using Putty by following [this instruction](https://github.com/kyamz/ADS_Class/blob/master/putty%20instructions%20for%20windows.docx)."
   ]
  },
  {
   "cell_type": "markdown",
   "metadata": {},
   "source": [
    "### 1. Launch a virtual machine\n",
    "Once you log into console, click \"Launch a veritual machine\" under the \"Build a solution\" panel of the screen."
   ]
  },
  {
   "cell_type": "markdown",
   "metadata": {},
   "source": [
    "![title](img/1.png)"
   ]
  },
  {
   "cell_type": "markdown",
   "metadata": {},
   "source": [
    "### 2. Launch an instance\n",
    "Create an instance by clicking \"Launch Instance\" in the middle of the screen."
   ]
  },
  {
   "cell_type": "markdown",
   "metadata": {},
   "source": [
    "![title](img/2.png)"
   ]
  },
  {
   "cell_type": "markdown",
   "metadata": {},
   "source": [
    "### 3. Select and Amazon Machine Image\n",
    "Scroll down a list and select an Amazon Machine Image (AMI) of your choice (e.g. \"Deep Learning AMI (Ubuntu) Version 13.0\")."
   ]
  },
  {
   "cell_type": "markdown",
   "metadata": {},
   "source": [
    "![title](img/3_DeepLearningAMI.png)"
   ]
  },
  {
   "cell_type": "markdown",
   "metadata": {},
   "source": [
    "### 4. Choose instance type\n",
    "In the \"2. Choose Instance Type\" tab, scroll down and select an instance of your choice (e.g. \"p2.xlarge\") and click \"Review and Launch\" at the bottom of the screen unless you choose to change other settings. This will take you to the last step \"7. Review\".\n",
    "\n",
    "**NOTE:** You may receive an error that your instance limit was 0 when you try to start some instances if you select a certain instant type (e.g. \"p2.xlarge\"). You may need to submit a request to Amazon to increase your limit. It took me only a few hours to receive an approval to use \"p2.xlarge\" from Amazon. "
   ]
  },
  {
   "cell_type": "markdown",
   "metadata": {},
   "source": [
    "![title](img/4.png)"
   ]
  },
  {
   "cell_type": "markdown",
   "metadata": {},
   "source": [
    "### 5. Configure security group\n",
    "\n",
    "1. Following the instruction from \"Lazy Girl's Guide to ...\", set up the security group as you see in the screenshot below. \n",
    "2. Click \"Review and Launch\" once the configuration is completed.\n",
    "\n",
    "**NOTE:** Use port range other than 8888 for Custome TCP Rule in case it is already in use for something else (e.g. Python in your local machine typically uses Port 8888, so you may need to use Port 8889 or whatever port of your choice instead.). "
   ]
  },
  {
   "cell_type": "markdown",
   "metadata": {},
   "source": [
    "![title](img/security.png)"
   ]
  },
  {
   "cell_type": "markdown",
   "metadata": {},
   "source": [
    "### 6. Review instance launch\n",
    "Ignore the warning \"Your instance configuration is not elibible for the free usage tier\". Click \"Launch\" at the bottom right corner of the \"Step 7: Review Instance Launch\" tab. "
   ]
  },
  {
   "cell_type": "markdown",
   "metadata": {},
   "source": [
    "![title](img/5.png)"
   ]
  },
  {
   "cell_type": "markdown",
   "metadata": {},
   "source": [
    "### 7. Set up a key pair\n",
    "Once you click \"launch\" in the step above, the \"Select an existing key pair or create a new key pair\" windows pops up. Follow the instruction below to set up a key pair if this is your first time creating one. \n",
    "1. Select \"create a new key pair\"\n",
    "2. Enter your key pair name (e.g. \"MAC_ADS\") in the key pair name box\n",
    "3. Click \"Download Key Pair\" and store .pem file in a location of your choice (e.g. Documents/ADS). \n",
    "4. Click \"Launch instances\" at the bottom right of the window\n",
    "\n",
    "**NOTE:** Make sure to rename your file from .pem.txt too .pem (i.e. remove the extension .txt) if MAC automatically add .txt extension to the pem file you downloaded from the console."
   ]
  },
  {
   "cell_type": "markdown",
   "metadata": {},
   "source": [
    "![title](img/6.png)"
   ]
  },
  {
   "cell_type": "markdown",
   "metadata": {},
   "source": [
    "### 8. View instance\n",
    "Click \"View\" at the bottom right corner of the screen to show details on the instance you've just launched. "
   ]
  },
  {
   "cell_type": "markdown",
   "metadata": {},
   "source": [
    "![title](img/7.png)"
   ]
  },
  {
   "cell_type": "markdown",
   "metadata": {},
   "source": [
    "### 9. Get information on connection\n",
    "Now that you successfully launched an instance, you will connect to it from your local machine. Note that the instructions below are slightly different from the *\"Lazy Girl's Guide to ...\"* as it skips a few steps and the instruction provided by native AWS is easier for me to follow. First, you will get information on connection from the instance page. \n",
    "1. Select an instance you've just lanunched.\n",
    "2. Click \"Connect\" at the top of the screen. The \"Connect to Your Instance\" will pop up."
   ]
  },
  {
   "cell_type": "markdown",
   "metadata": {},
   "source": [
    "![title](img/8.png)|"
   ]
  },
  {
   "cell_type": "markdown",
   "metadata": {},
   "source": [
    "### 10. Connect to your instance\n",
    "Follow the instructions in the \"Connect to Your Instance\" window to establish a connect to your instance."
   ]
  },
  {
   "cell_type": "markdown",
   "metadata": {},
   "source": [
    "![title](img/9a.png)"
   ]
  },
  {
   "cell_type": "markdown",
   "metadata": {},
   "source": [
    "Here is a screenshot of the terminal with the commands corresponding to the instruction above. Numbers in red are corresponding to the steps of the instruction in the screenshot above.\n",
    "\n",
    "**NOTE:** You will get a warning \"The authenticity of host 'mydns.amazonaws.com(IP)' can't be established.\" but you can just ignore this. This is normal. Your SSH complains about the unknown host key."
   ]
  },
  {
   "cell_type": "markdown",
   "metadata": {},
   "source": [
    "<img src=\"img/9b.png\" alt=\"Drawing\" style=\"width: 1200px;\"/>"
   ]
  },
  {
   "cell_type": "markdown",
   "metadata": {},
   "source": [
    "### 11. Set up the Environment on the Remote Machine\n",
    "\n",
    "Following the instructions from *\"Lazy Girl's Guide to ...\"*, set up anaconda as your environment and make sure that you are using the correct binaries with a few lines of commands below.\n",
    "\n",
    "**NOTE:** Depending on your AMI, the path to anaconda can be different from what you see in *\"Lazy Girl's Guide to ...\"* or the screenshot below.\n",
    "\n",
    "**NOTE:** While *\"Lazy Girl's Guide to ...\"* takes extra steps to make sure Jupyter to be fired in your environment by chaning PATH in .bash_profile, you may skip these steps if Jupyter to be launched in your environment by default as in our case below (i.e. the \"which jupyter\" command returns a path in your environment \"/home/ubuntu/anaconda3/bin/jupyter\")."
   ]
  },
  {
   "cell_type": "markdown",
   "metadata": {},
   "source": [
    "<img src=\"img/10.png\" alt=\"Drawing\" style=\"float: left; width: 500px;\"/>"
   ]
  },
  {
   "cell_type": "markdown",
   "metadata": {},
   "source": [
    "### 12. Configure the Jupyter Server\n",
    "\n",
    "You will be simply following the instruction from *\"Lazy Girl's Guide to ...\"* to configure the Jupyter Server."
   ]
  },
  {
   "cell_type": "markdown",
   "metadata": {},
   "source": [
    "<img src=\"img/11.png\" alt=\"Drawing\" style=\"float: left; width: 1000px;\"/>"
   ]
  },
  {
   "cell_type": "markdown",
   "metadata": {},
   "source": [
    "### 13. Launch Jupyter Notebook on your remote machine\n",
    "\n",
    "Launch Jupyter Notebook on your remote machine by following the instruction from *\"Lazy Girl's Guide to ...\"*.\n",
    "\n",
    "**NOTE:** It's not captured in the screen shot below, but as in *\"Lazy Girl's Guide to ...\"*, you may want to use a session management such as screen and type in a command like \"screen -S jupyter\" prior to execute commands in the screen shot.\n",
    "\n",
    "**NOTE:** If you set up Port Range other than 8888 at the step 5 above, you may need additional arguments (e.g. \"jupyter notebook --no-browser --port=8889\")."
   ]
  },
  {
   "cell_type": "markdown",
   "metadata": {},
   "source": [
    "<img src=\"img/13.png\" alt=\"Drawing\" style=\"float: left; width: 1000px;\"/>"
   ]
  },
  {
   "cell_type": "markdown",
   "metadata": {},
   "source": [
    "### 14. Access Jupyter Notebook in your browser\n",
    "\n",
    "Now that you launched Jupyter Notebook in your remote machine, it is accessible in your browser with this URL:\n",
    "\n",
    "https://your-instances-public-ip:8888 (e.g. https://ec2-12-345-678-123.us-east-2.compute.amazonaws.com)\n",
    "\n",
    "**NOTE:** You can find your instance public ip in the middle of the instance page in your console, where you find information on connection at the step 5, under \"Public DNS\". \n",
    "\n",
    "**NOTE:** Change the port range (i.e. 4-digit number at the end of the URL) to whatever port range you select if needed.\n",
    "\n",
    "**NOTE:** Use Chrome as your browser if Safari blocks the connection due to any security reason."
   ]
  },
  {
   "cell_type": "markdown",
   "metadata": {},
   "source": [
    "![title](img/14.png)"
   ]
  }
 ],
 "metadata": {
  "kernelspec": {
   "display_name": "Python 3",
   "language": "python",
   "name": "python3"
  },
  "language_info": {
   "codemirror_mode": {
    "name": "ipython",
    "version": 3
   },
   "file_extension": ".py",
   "mimetype": "text/x-python",
   "name": "python",
   "nbconvert_exporter": "python",
   "pygments_lexer": "ipython3",
   "version": "3.6.4"
  }
 },
 "nbformat": 4,
 "nbformat_minor": 2
}
